{
 "cells": [
  {
   "cell_type": "code",
   "execution_count": 1,
   "metadata": {},
   "outputs": [],
   "source": [
    "import pandas as pd\n",
    "import matplotlib.pyplot as plt"
   ]
  },
  {
   "cell_type": "code",
   "execution_count": 18,
   "metadata": {},
   "outputs": [],
   "source": [
    "datasets = ['toy_2', 'grid', 'Erding_NDP_S020']\n",
    "best_solution = [19114, 49279, 12291729]\n",
    "best_solution = pd.Series(best_solution, index=datasets, name='best_sol')\n",
    "best_bound = [19114, 47824, 12206083]\n",
    "best_bound = pd.Series(best_bound, index=datasets, name='best_bound')\n",
    "sp = [19236, 50384, 12293346]\n",
    "sp = pd.Series(sp, index=datasets, name='sp')\n",
    "gnn = [21796, 63861, 16847133]\n",
    "gnn = pd.Series(gnn, index=datasets, name='gnn')"
   ]
  },
  {
   "cell_type": "code",
   "execution_count": 19,
   "metadata": {},
   "outputs": [
    {
     "data": {
      "text/html": [
       "<div>\n",
       "<style scoped>\n",
       "    .dataframe tbody tr th:only-of-type {\n",
       "        vertical-align: middle;\n",
       "    }\n",
       "\n",
       "    .dataframe tbody tr th {\n",
       "        vertical-align: top;\n",
       "    }\n",
       "\n",
       "    .dataframe thead th {\n",
       "        text-align: right;\n",
       "    }\n",
       "</style>\n",
       "<table border=\"1\" class=\"dataframe\">\n",
       "  <thead>\n",
       "    <tr style=\"text-align: right;\">\n",
       "      <th></th>\n",
       "      <th>best_sol</th>\n",
       "      <th>best_bound</th>\n",
       "      <th>sp</th>\n",
       "      <th>gnn</th>\n",
       "    </tr>\n",
       "  </thead>\n",
       "  <tbody>\n",
       "    <tr>\n",
       "      <th>toy_2</th>\n",
       "      <td>19114</td>\n",
       "      <td>19114</td>\n",
       "      <td>19236</td>\n",
       "      <td>21796</td>\n",
       "    </tr>\n",
       "    <tr>\n",
       "      <th>grid</th>\n",
       "      <td>49279</td>\n",
       "      <td>47824</td>\n",
       "      <td>50384</td>\n",
       "      <td>63861</td>\n",
       "    </tr>\n",
       "    <tr>\n",
       "      <th>Erding_NDP_S020</th>\n",
       "      <td>12291729</td>\n",
       "      <td>12206083</td>\n",
       "      <td>12293346</td>\n",
       "      <td>16847133</td>\n",
       "    </tr>\n",
       "  </tbody>\n",
       "</table>\n",
       "</div>"
      ],
      "text/plain": [
       "                 best_sol  best_bound        sp       gnn\n",
       "toy_2               19114       19114     19236     21796\n",
       "grid                49279       47824     50384     63861\n",
       "Erding_NDP_S020  12291729    12206083  12293346  16847133"
      ]
     },
     "execution_count": 19,
     "metadata": {},
     "output_type": "execute_result"
    }
   ],
   "source": [
    "df = pd.DataFrame([best_solution, best_bound, sp, gnn]).T\n",
    "df"
   ]
  },
  {
   "cell_type": "code",
   "execution_count": 20,
   "metadata": {},
   "outputs": [
    {
     "data": {
      "text/html": [
       "<div>\n",
       "<style scoped>\n",
       "    .dataframe tbody tr th:only-of-type {\n",
       "        vertical-align: middle;\n",
       "    }\n",
       "\n",
       "    .dataframe tbody tr th {\n",
       "        vertical-align: top;\n",
       "    }\n",
       "\n",
       "    .dataframe thead th {\n",
       "        text-align: right;\n",
       "    }\n",
       "</style>\n",
       "<table border=\"1\" class=\"dataframe\">\n",
       "  <thead>\n",
       "    <tr style=\"text-align: right;\">\n",
       "      <th></th>\n",
       "      <th>dataset</th>\n",
       "      <th>best_sol</th>\n",
       "      <th>best_bound</th>\n",
       "      <th>sp</th>\n",
       "      <th>gnn</th>\n",
       "      <th>best_gap</th>\n",
       "      <th>sp_gap</th>\n",
       "      <th>gnn_gap</th>\n",
       "    </tr>\n",
       "  </thead>\n",
       "  <tbody>\n",
       "    <tr>\n",
       "      <th>0</th>\n",
       "      <td>toy_2</td>\n",
       "      <td>19114</td>\n",
       "      <td>19114</td>\n",
       "      <td>19236</td>\n",
       "      <td>21796</td>\n",
       "      <td>0.000000</td>\n",
       "      <td>0.006383</td>\n",
       "      <td>0.140316</td>\n",
       "    </tr>\n",
       "    <tr>\n",
       "      <th>1</th>\n",
       "      <td>grid</td>\n",
       "      <td>49279</td>\n",
       "      <td>47824</td>\n",
       "      <td>50384</td>\n",
       "      <td>63861</td>\n",
       "      <td>0.030424</td>\n",
       "      <td>0.053530</td>\n",
       "      <td>0.335334</td>\n",
       "    </tr>\n",
       "    <tr>\n",
       "      <th>2</th>\n",
       "      <td>Erding_NDP_S020</td>\n",
       "      <td>12291729</td>\n",
       "      <td>12206083</td>\n",
       "      <td>12293346</td>\n",
       "      <td>16847133</td>\n",
       "      <td>0.007017</td>\n",
       "      <td>0.007149</td>\n",
       "      <td>0.380224</td>\n",
       "    </tr>\n",
       "  </tbody>\n",
       "</table>\n",
       "</div>"
      ],
      "text/plain": [
       "           dataset  best_sol  best_bound        sp       gnn  best_gap  \\\n",
       "0            toy_2     19114       19114     19236     21796  0.000000   \n",
       "1             grid     49279       47824     50384     63861  0.030424   \n",
       "2  Erding_NDP_S020  12291729    12206083  12293346  16847133  0.007017   \n",
       "\n",
       "     sp_gap   gnn_gap  \n",
       "0  0.006383  0.140316  \n",
       "1  0.053530  0.335334  \n",
       "2  0.007149  0.380224  "
      ]
     },
     "execution_count": 20,
     "metadata": {},
     "output_type": "execute_result"
    }
   ],
   "source": [
    "df['best_gap'] = df['best_sol'] / df['best_bound'] - 1\n",
    "df['sp_gap'] = df['sp'] / df['best_bound'] - 1\n",
    "df['gnn_gap'] = df['gnn'] / df['best_bound'] - 1\n",
    "df = df.rename_axis('dataset', axis='index').reset_index()\n",
    "df"
   ]
  },
  {
   "cell_type": "code",
   "execution_count": 104,
   "metadata": {},
   "outputs": [
    {
     "data": {
      "image/png": "[encoded data removed]",
      "text/plain": [
       "<Figure size 800x150 with 1 Axes>"
      ]
     },
     "metadata": {},
     "output_type": "display_data"
    }
   ],
   "source": [
    "fig, ax = plt.subplots(figsize=(8,1.5))\n",
    "# ax.set_xscale('log')\n",
    "ax.margins(y=0.25)\n",
    "ax.invert_yaxis()\n",
    "# ax.set_title('Optimality gaps with respect to the best bound')\n",
    "ax.set_xlabel('Relative optimality gap')\n",
    "# ax.set_ylabel('Dataset')\n",
    "args = {\n",
    "    'best_gap': {\n",
    "        'label': 'Best solution gap',\n",
    "        'c': 'black',\n",
    "        'marker': '.',\n",
    "        # 'facecolors': 'black'\n",
    "    },\n",
    "    'sp_gap': {\n",
    "        'label': 'Shortest path gap',\n",
    "        # 'c': 'tab:orange',\n",
    "        'marker': 'o',\n",
    "        'edgecolors': 'tab:orange',\n",
    "        'facecolors': 'none'\n",
    "    },\n",
    "    'gnn_gap': {\n",
    "        'label': 'GNN gap',\n",
    "        'c': 'tab:red',\n",
    "        'marker': 'o',\n",
    "        # 's': 20,\n",
    "    },\n",
    "}\n",
    "\n",
    "# for col, marker, c in [('best_gap', '.', 'black') , ('sp_gap', 'o', 'tab:orange'), ('gnn_gap', '+', 'tab:blue')]:\n",
    "#     ax.scatter(df[col], df['dataset'], marker=marker, label=labels[col], facecolors='none', edgecolors=c)\n",
    "\n",
    "for key, arg in args.items():\n",
    "    ax.scatter(df[key], df['dataset'], **arg)\n",
    "ax.legend(loc='upper left', bbox_to_anchor=(1.0, 1), frameon=False)\n",
    "\n",
    "for idx, dataset in df['dataset'].items():\n",
    "    ax.plot([df.loc[idx, 'best_gap'], df.loc[idx, 'gnn_gap']], [dataset, dataset], c='#ddd', linewidth=1, linestyle='--', zorder=-1)\n",
    "\n",
    "# for spine in ax.spines.values():\n",
    "#     spine.set_visible(False)\n",
    "# plt.subplots_adjust(left=0.4, right=0.6, top=0.95, bottom=0.5)\n",
    "fig.tight_layout()\n",
    "# fig.savefig('figures/eval-timpasslib.pdf')\n"
   ]
  }
 ],
 "metadata": {
  "kernelspec": {
   "display_name": "thesis",
   "language": "python",
   "name": "python3"
  },
  "language_info": {
   "codemirror_mode": {
    "name": "ipython",
    "version": 3
   },
   "file_extension": ".py",
   "mimetype": "text/x-python",
   "name": "python",
   "nbconvert_exporter": "python",
   "pygments_lexer": "ipython3",
   "version": "3.10.4"
  }
 },
 "nbformat": 4,
 "nbformat_minor": 2
}
