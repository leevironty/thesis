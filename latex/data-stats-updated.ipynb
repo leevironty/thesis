{
 "cells": [
  {
   "cell_type": "code",
   "execution_count": 1,
   "metadata": {},
   "outputs": [],
   "source": [
    "import pandas as pd\n",
    "import pickle\n",
    "import matplotlib.pyplot as plt"
   ]
  },
  {
   "cell_type": "code",
   "execution_count": 2,
   "metadata": {},
   "outputs": [],
   "source": [
    "with open('../eval-amend-result.pkl', 'rb') as file:\n",
    "    data: pd.DataFrame = pickle.load(file)"
   ]
  },
  {
   "cell_type": "code",
   "execution_count": 3,
   "metadata": {},
   "outputs": [
    {
     "data": {
      "text/html": [
       "<div>\n",
       "<style scoped>\n",
       "    .dataframe tbody tr th:only-of-type {\n",
       "        vertical-align: middle;\n",
       "    }\n",
       "\n",
       "    .dataframe tbody tr th {\n",
       "        vertical-align: top;\n",
       "    }\n",
       "\n",
       "    .dataframe thead th {\n",
       "        text-align: right;\n",
       "    }\n",
       "</style>\n",
       "<table border=\"1\" class=\"dataframe\">\n",
       "  <thead>\n",
       "    <tr style=\"text-align: right;\">\n",
       "      <th></th>\n",
       "      <th>new</th>\n",
       "      <th>trivial</th>\n",
       "      <th>optimal</th>\n",
       "      <th>optimal_weights</th>\n",
       "      <th>loss_trivial</th>\n",
       "      <th>loss_gnn</th>\n",
       "      <th>gap_trivial</th>\n",
       "      <th>gap_gnn</th>\n",
       "      <th>weights_trivial</th>\n",
       "      <th>weights_new</th>\n",
       "      <th>filename</th>\n",
       "      <th>stops</th>\n",
       "      <th>lines</th>\n",
       "      <th>line_reps</th>\n",
       "      <th>activities</th>\n",
       "      <th>events</th>\n",
       "      <th>od_pairs</th>\n",
       "    </tr>\n",
       "  </thead>\n",
       "  <tbody>\n",
       "    <tr>\n",
       "      <th>0</th>\n",
       "      <td>2337.0</td>\n",
       "      <td>2337.0</td>\n",
       "      <td>2337.0</td>\n",
       "      <td>{(1, 2): 14, (3, 4): 32, (5, 6): 36, (7, 8): 0...</td>\n",
       "      <td>0.061671</td>\n",
       "      <td>0.059107</td>\n",
       "      <td>0.0</td>\n",
       "      <td>0.0</td>\n",
       "      <td>{(1, 2): 38.0, (2, 5): 14.0, (5, 6): 36.0, (2,...</td>\n",
       "      <td>{(1, 2): 0.20888860523700714, (3, 4): 0.026191...</td>\n",
       "      <td>solutions/data/nov-24-preference-fix/job_25312...</td>\n",
       "      <td>5</td>\n",
       "      <td>2</td>\n",
       "      <td>3</td>\n",
       "      <td>34</td>\n",
       "      <td>24</td>\n",
       "      <td>20</td>\n",
       "    </tr>\n",
       "    <tr>\n",
       "      <th>1</th>\n",
       "      <td>2337.0</td>\n",
       "      <td>2337.0</td>\n",
       "      <td>2337.0</td>\n",
       "      <td>{(1, 2): 22, (3, 4): 10, (5, 6): 36, (7, 8): 3...</td>\n",
       "      <td>0.042532</td>\n",
       "      <td>0.061186</td>\n",
       "      <td>0.0</td>\n",
       "      <td>0.0</td>\n",
       "      <td>{(1, 2): 38.0, (2, 5): 14.0, (5, 6): 36.0, (2,...</td>\n",
       "      <td>{(1, 2): 0.11142860352993011, (3, 4): 0.0, (5,...</td>\n",
       "      <td>solutions/data/nov-24-preference-fix/job_25312...</td>\n",
       "      <td>5</td>\n",
       "      <td>2</td>\n",
       "      <td>3</td>\n",
       "      <td>34</td>\n",
       "      <td>24</td>\n",
       "      <td>20</td>\n",
       "    </tr>\n",
       "    <tr>\n",
       "      <th>2</th>\n",
       "      <td>2337.0</td>\n",
       "      <td>2337.0</td>\n",
       "      <td>2337.0</td>\n",
       "      <td>{(1, 2): 0.0, (3, 4): 10, (5, 6): 22, (7, 8): ...</td>\n",
       "      <td>0.078661</td>\n",
       "      <td>0.056282</td>\n",
       "      <td>0.0</td>\n",
       "      <td>0.0</td>\n",
       "      <td>{(1, 2): 38.0, (2, 5): 14.0, (5, 6): 36.0, (2,...</td>\n",
       "      <td>{(1, 2): 0.0, (3, 4): 0.18950197100639343, (5,...</td>\n",
       "      <td>solutions/data/nov-24-preference-fix/job_25312...</td>\n",
       "      <td>5</td>\n",
       "      <td>2</td>\n",
       "      <td>3</td>\n",
       "      <td>34</td>\n",
       "      <td>24</td>\n",
       "      <td>20</td>\n",
       "    </tr>\n",
       "    <tr>\n",
       "      <th>3</th>\n",
       "      <td>2337.0</td>\n",
       "      <td>2337.0</td>\n",
       "      <td>2337.0</td>\n",
       "      <td>{(1, 2): 8, (3, 4): 42, (5, 6): 0.0, (7, 8): 3...</td>\n",
       "      <td>0.070635</td>\n",
       "      <td>0.057670</td>\n",
       "      <td>0.0</td>\n",
       "      <td>0.0</td>\n",
       "      <td>{(1, 2): 38.0, (2, 5): 14.0, (5, 6): 36.0, (2,...</td>\n",
       "      <td>{(1, 2): 0.08464182913303375, (3, 4): 0.281004...</td>\n",
       "      <td>solutions/data/nov-24-preference-fix/job_25312...</td>\n",
       "      <td>5</td>\n",
       "      <td>2</td>\n",
       "      <td>3</td>\n",
       "      <td>34</td>\n",
       "      <td>24</td>\n",
       "      <td>20</td>\n",
       "    </tr>\n",
       "    <tr>\n",
       "      <th>4</th>\n",
       "      <td>2337.0</td>\n",
       "      <td>2337.0</td>\n",
       "      <td>2337.0</td>\n",
       "      <td>{(1, 2): 22, (3, 4): 42, (5, 6): 36, (7, 8): 1...</td>\n",
       "      <td>0.034231</td>\n",
       "      <td>0.055837</td>\n",
       "      <td>0.0</td>\n",
       "      <td>0.0</td>\n",
       "      <td>{(1, 2): 38.0, (2, 5): 14.0, (5, 6): 36.0, (2,...</td>\n",
       "      <td>{(1, 2): 0.23401574790477753, (3, 4): 0.218551...</td>\n",
       "      <td>solutions/data/nov-24-preference-fix/job_25312...</td>\n",
       "      <td>5</td>\n",
       "      <td>2</td>\n",
       "      <td>3</td>\n",
       "      <td>34</td>\n",
       "      <td>24</td>\n",
       "      <td>20</td>\n",
       "    </tr>\n",
       "  </tbody>\n",
       "</table>\n",
       "</div>"
      ],
      "text/plain": [
       "      new  trivial  optimal  \\\n",
       "0  2337.0   2337.0   2337.0   \n",
       "1  2337.0   2337.0   2337.0   \n",
       "2  2337.0   2337.0   2337.0   \n",
       "3  2337.0   2337.0   2337.0   \n",
       "4  2337.0   2337.0   2337.0   \n",
       "\n",
       "                                     optimal_weights  loss_trivial  loss_gnn  \\\n",
       "0  {(1, 2): 14, (3, 4): 32, (5, 6): 36, (7, 8): 0...      0.061671  0.059107   \n",
       "1  {(1, 2): 22, (3, 4): 10, (5, 6): 36, (7, 8): 3...      0.042532  0.061186   \n",
       "2  {(1, 2): 0.0, (3, 4): 10, (5, 6): 22, (7, 8): ...      0.078661  0.056282   \n",
       "3  {(1, 2): 8, (3, 4): 42, (5, 6): 0.0, (7, 8): 3...      0.070635  0.057670   \n",
       "4  {(1, 2): 22, (3, 4): 42, (5, 6): 36, (7, 8): 1...      0.034231  0.055837   \n",
       "\n",
       "   gap_trivial  gap_gnn                                    weights_trivial  \\\n",
       "0          0.0      0.0  {(1, 2): 38.0, (2, 5): 14.0, (5, 6): 36.0, (2,...   \n",
       "1          0.0      0.0  {(1, 2): 38.0, (2, 5): 14.0, (5, 6): 36.0, (2,...   \n",
       "2          0.0      0.0  {(1, 2): 38.0, (2, 5): 14.0, (5, 6): 36.0, (2,...   \n",
       "3          0.0      0.0  {(1, 2): 38.0, (2, 5): 14.0, (5, 6): 36.0, (2,...   \n",
       "4          0.0      0.0  {(1, 2): 38.0, (2, 5): 14.0, (5, 6): 36.0, (2,...   \n",
       "\n",
       "                                         weights_new  \\\n",
       "0  {(1, 2): 0.20888860523700714, (3, 4): 0.026191...   \n",
       "1  {(1, 2): 0.11142860352993011, (3, 4): 0.0, (5,...   \n",
       "2  {(1, 2): 0.0, (3, 4): 0.18950197100639343, (5,...   \n",
       "3  {(1, 2): 0.08464182913303375, (3, 4): 0.281004...   \n",
       "4  {(1, 2): 0.23401574790477753, (3, 4): 0.218551...   \n",
       "\n",
       "                                            filename  stops  lines  line_reps  \\\n",
       "0  solutions/data/nov-24-preference-fix/job_25312...      5      2          3   \n",
       "1  solutions/data/nov-24-preference-fix/job_25312...      5      2          3   \n",
       "2  solutions/data/nov-24-preference-fix/job_25312...      5      2          3   \n",
       "3  solutions/data/nov-24-preference-fix/job_25312...      5      2          3   \n",
       "4  solutions/data/nov-24-preference-fix/job_25312...      5      2          3   \n",
       "\n",
       "   activities  events  od_pairs  \n",
       "0          34      24        20  \n",
       "1          34      24        20  \n",
       "2          34      24        20  \n",
       "3          34      24        20  \n",
       "4          34      24        20  "
      ]
     },
     "execution_count": 3,
     "metadata": {},
     "output_type": "execute_result"
    }
   ],
   "source": [
    "data.head()"
   ]
  },
  {
   "cell_type": "code",
   "execution_count": 5,
   "metadata": {},
   "outputs": [
    {
     "data": {
      "text/plain": [
       "stops           5.556317\n",
       "lines           2.468560\n",
       "line_reps       4.994711\n",
       "activities    150.197062\n",
       "events         55.580020\n",
       "od_pairs       24.930264\n",
       "dtype: float64"
      ]
     },
     "execution_count": 5,
     "metadata": {},
     "output_type": "execute_result"
    }
   ],
   "source": [
    "data[['stops', 'lines', 'line_reps', 'activities', 'events', 'od_pairs']].mean()"
   ]
  },
  {
   "cell_type": "code",
   "execution_count": 4,
   "metadata": {},
   "outputs": [
    {
     "data": {
      "text/plain": [
       "0       5\n",
       "426     6\n",
       "1682    7\n",
       "2996    8\n",
       "4093    9\n",
       "Name: filename, dtype: object"
      ]
     },
     "execution_count": 4,
     "metadata": {},
     "output_type": "execute_result"
    }
   ],
   "source": [
    "data.filename.str.findall(r'array_(\\d+)').str[0].drop_duplicates()"
   ]
  },
  {
   "cell_type": "code",
   "execution_count": 40,
   "metadata": {},
   "outputs": [
    {
     "data": {
      "text/plain": [
       "stops\n",
       "4    0.097160\n",
       "5    0.394907\n",
       "6    0.372184\n",
       "7    0.125955\n",
       "8    0.009794\n",
       "Name: count, dtype: float64"
      ]
     },
     "execution_count": 40,
     "metadata": {},
     "output_type": "execute_result"
    }
   ],
   "source": [
    "df = data.copy()\n",
    "df['zero_sp_gap'] = data['gap_trivial'] == 0\n",
    "df['zero_gnn_gap'] = data['gap_gnn'] == 0\n",
    "trivial_shares = df.groupby(by='stops')['zero_sp_gap'].mean().sort_index()\n",
    "gnn_shares = df.groupby(by='stops')['zero_gnn_gap'].mean().sort_index()\n",
    "stop_shares = (df['stops'].value_counts() / len(df)).sort_index()\n",
    "stop_shares"
   ]
  },
  {
   "cell_type": "code",
   "execution_count": 32,
   "metadata": {},
   "outputs": [
    {
     "data": {
      "image/png": "[encoded data removed]",
      "text/plain": [
       "<Figure size 640x480 with 1 Axes>"
      ]
     },
     "metadata": {},
     "output_type": "display_data"
    }
   ],
   "source": [
    "counts = df.groupby(['stops', 'zero_sp_gap']).size().unstack()\n",
    "counts = counts / counts.values.sum()\n",
    "ax = counts.plot.bar(stacked=True, width=0.75)\n",
    "ax.set_xticklabels(ax.get_xticklabels(), rotation=0)\n",
    "\n",
    "ax.legend(['Non-trivial', 'Trivial'])\n",
    "\n",
    "ax.set_xlabel('$|S|$')\n",
    "ax.set_ylabel('share of problem instances')\n",
    "plt.savefig('figures/trivial_shares_in_data.pdf')\n"
   ]
  },
  {
   "cell_type": "code",
   "execution_count": 43,
   "metadata": {},
   "outputs": [],
   "source": [
    "from calc_data_gen_node_count_distribution import get_unique_counts"
   ]
  },
  {
   "cell_type": "code",
   "execution_count": 44,
   "metadata": {},
   "outputs": [],
   "source": [
    "uniques, counts = get_unique_counts(10000)"
   ]
  },
  {
   "cell_type": "code",
   "execution_count": 58,
   "metadata": {},
   "outputs": [
    {
     "data": {
      "text/plain": [
       "86785"
      ]
     },
     "execution_count": 58,
     "metadata": {},
     "output_type": "execute_result"
    }
   ],
   "source": [
    "data.size"
   ]
  },
  {
   "cell_type": "code",
   "execution_count": 77,
   "metadata": {},
   "outputs": [
    {
     "data": {
      "image/png": "[encoded data removed]",
      "text/plain": [
       "<Figure size 640x480 with 1 Axes>"
      ]
     },
     "metadata": {},
     "output_type": "display_data"
    }
   ],
   "source": [
    "\n",
    "og_dist = pd.Series(counts, index=uniques)\n",
    "og_dist/og_dist.sum()\n",
    "\n",
    "\n",
    "\n",
    "# (data['stops'].value_counts() / len(data)).plot.bar(ax=ax)\n",
    "\n",
    "\n",
    "df_bar = pd.DataFrame(\n",
    "    data={\n",
    "        'Attempted': og_dist / og_dist.sum(),\n",
    "        'Solved': data['stops'].value_counts() / len(data)\n",
    "    }\n",
    ")\n",
    "ax = df_bar.plot.bar(width=0.5)\n",
    "ax.set_xticklabels(ax.get_xticklabels(), rotation=0)\n",
    "\n",
    "# ax.legend(['Non-trivial', 'Trivial'])\n",
    "\n",
    "ax.set_xlabel('$|S|$')\n",
    "ax.set_ylabel('Share of total')\n",
    "plt.savefig('figures/data_gen_shares.pdf')"
   ]
  },
  {
   "cell_type": "code",
   "execution_count": 78,
   "metadata": {},
   "outputs": [
    {
     "data": {
      "image/png": "[encoded data removed]",
      "text/plain": [
       "<Figure size 640x480 with 1 Axes>"
      ]
     },
     "metadata": {},
     "output_type": "display_data"
    }
   ],
   "source": [
    "df_bar = pd.DataFrame(\n",
    "    data={\n",
    "        'Trivial share': trivial_shares,\n",
    "        'Zero GNN gap share': gnn_shares,\n",
    "    }\n",
    ")\n",
    "\n",
    "ax = df_bar.plot.bar()\n",
    "\n",
    "ax.set_xticklabels(ax.get_xticklabels(), rotation=0)\n",
    "\n",
    "\n",
    "ax.set_xlabel('$|S|$')\n",
    "ax.set_ylabel('Share')\n",
    "plt.savefig('figures/zero_gap_shares.pdf')\n"
   ]
  },
  {
   "cell_type": "code",
   "execution_count": 79,
   "metadata": {},
   "outputs": [
    {
     "data": {
      "text/html": [
       "<div>\n",
       "<style scoped>\n",
       "    .dataframe tbody tr th:only-of-type {\n",
       "        vertical-align: middle;\n",
       "    }\n",
       "\n",
       "    .dataframe tbody tr th {\n",
       "        vertical-align: top;\n",
       "    }\n",
       "\n",
       "    .dataframe thead th {\n",
       "        text-align: right;\n",
       "    }\n",
       "</style>\n",
       "<table border=\"1\" class=\"dataframe\">\n",
       "  <thead>\n",
       "    <tr style=\"text-align: right;\">\n",
       "      <th></th>\n",
       "      <th>Trivial share</th>\n",
       "      <th>Zero GNN gap share</th>\n",
       "    </tr>\n",
       "    <tr>\n",
       "      <th>stops</th>\n",
       "      <th></th>\n",
       "      <th></th>\n",
       "    </tr>\n",
       "  </thead>\n",
       "  <tbody>\n",
       "    <tr>\n",
       "      <th>4</th>\n",
       "      <td>0.979839</td>\n",
       "      <td>0.806452</td>\n",
       "    </tr>\n",
       "    <tr>\n",
       "      <th>5</th>\n",
       "      <td>0.979663</td>\n",
       "      <td>0.721230</td>\n",
       "    </tr>\n",
       "    <tr>\n",
       "      <th>6</th>\n",
       "      <td>0.878947</td>\n",
       "      <td>0.561579</td>\n",
       "    </tr>\n",
       "    <tr>\n",
       "      <th>7</th>\n",
       "      <td>0.827372</td>\n",
       "      <td>0.326594</td>\n",
       "    </tr>\n",
       "    <tr>\n",
       "      <th>8</th>\n",
       "      <td>0.380000</td>\n",
       "      <td>0.140000</td>\n",
       "    </tr>\n",
       "  </tbody>\n",
       "</table>\n",
       "</div>"
      ],
      "text/plain": [
       "       Trivial share  Zero GNN gap share\n",
       "stops                                   \n",
       "4           0.979839            0.806452\n",
       "5           0.979663            0.721230\n",
       "6           0.878947            0.561579\n",
       "7           0.827372            0.326594\n",
       "8           0.380000            0.140000"
      ]
     },
     "execution_count": 79,
     "metadata": {},
     "output_type": "execute_result"
    }
   ],
   "source": [
    "df_bar"
   ]
  },
  {
   "cell_type": "code",
   "execution_count": 37,
   "metadata": {},
   "outputs": [
    {
     "data": {
      "text/plain": [
       "stops\n",
       "4    0.979839\n",
       "5    0.979663\n",
       "6    0.878947\n",
       "7    0.827372\n",
       "8    0.380000\n",
       "Name: zero_sp_gap, dtype: float64"
      ]
     },
     "execution_count": 37,
     "metadata": {},
     "output_type": "execute_result"
    }
   ],
   "source": [
    "trivial_shares"
   ]
  },
  {
   "cell_type": "code",
   "execution_count": 35,
   "metadata": {},
   "outputs": [
    {
     "data": {
      "text/plain": [
       "0.9171400587659158"
      ]
     },
     "execution_count": 35,
     "metadata": {},
     "output_type": "execute_result"
    }
   ],
   "source": [
    "df['zero_sp_gap'].mean()"
   ]
  },
  {
   "cell_type": "code",
   "execution_count": 15,
   "metadata": {},
   "outputs": [
    {
     "data": {
      "text/html": [
       "<div>\n",
       "<style scoped>\n",
       "    .dataframe tbody tr th:only-of-type {\n",
       "        vertical-align: middle;\n",
       "    }\n",
       "\n",
       "    .dataframe tbody tr th {\n",
       "        vertical-align: top;\n",
       "    }\n",
       "\n",
       "    .dataframe thead th {\n",
       "        text-align: right;\n",
       "    }\n",
       "</style>\n",
       "<table border=\"1\" class=\"dataframe\">\n",
       "  <thead>\n",
       "    <tr style=\"text-align: right;\">\n",
       "      <th>zero_sp_gap</th>\n",
       "      <th>False</th>\n",
       "      <th>True</th>\n",
       "    </tr>\n",
       "    <tr>\n",
       "      <th>stops</th>\n",
       "      <th></th>\n",
       "      <th></th>\n",
       "    </tr>\n",
       "  </thead>\n",
       "  <tbody>\n",
       "    <tr>\n",
       "      <th>4</th>\n",
       "      <td>10</td>\n",
       "      <td>486</td>\n",
       "    </tr>\n",
       "    <tr>\n",
       "      <th>5</th>\n",
       "      <td>41</td>\n",
       "      <td>1975</td>\n",
       "    </tr>\n",
       "    <tr>\n",
       "      <th>6</th>\n",
       "      <td>230</td>\n",
       "      <td>1670</td>\n",
       "    </tr>\n",
       "    <tr>\n",
       "      <th>7</th>\n",
       "      <td>111</td>\n",
       "      <td>532</td>\n",
       "    </tr>\n",
       "    <tr>\n",
       "      <th>8</th>\n",
       "      <td>31</td>\n",
       "      <td>19</td>\n",
       "    </tr>\n",
       "  </tbody>\n",
       "</table>\n",
       "</div>"
      ],
      "text/plain": [
       "zero_sp_gap  False  True \n",
       "stops                    \n",
       "4               10    486\n",
       "5               41   1975\n",
       "6              230   1670\n",
       "7              111    532\n",
       "8               31     19"
      ]
     },
     "execution_count": 15,
     "metadata": {},
     "output_type": "execute_result"
    }
   ],
   "source": [
    "df.groupby(['stops', 'zero_sp_gap']).size().unstack()"
   ]
  },
  {
   "cell_type": "code",
   "execution_count": 9,
   "metadata": {},
   "outputs": [
    {
     "data": {
      "text/plain": [
       "stops\n",
       "4    0.979839\n",
       "5    0.979663\n",
       "6    0.878947\n",
       "7    0.827372\n",
       "8    0.380000\n",
       "Name: zero_sp_gap, dtype: float64"
      ]
     },
     "execution_count": 9,
     "metadata": {},
     "output_type": "execute_result"
    }
   ],
   "source": [
    "trivial_shares"
   ]
  },
  {
   "cell_type": "code",
   "execution_count": 6,
   "metadata": {},
   "outputs": [
    {
     "data": {
      "text/plain": [
       "stops\n",
       "4     496\n",
       "5    2016\n",
       "6    1900\n",
       "7     643\n",
       "8      50\n",
       "Name: count, dtype: int64"
      ]
     },
     "execution_count": 6,
     "metadata": {},
     "output_type": "execute_result"
    }
   ],
   "source": [
    "df['stops'].value_counts().sort_index()"
   ]
  },
  {
   "cell_type": "code",
   "execution_count": 7,
   "metadata": {},
   "outputs": [
    {
     "data": {
      "text/plain": [
       "<BarContainer object of 5 artists>"
      ]
     },
     "execution_count": 7,
     "metadata": {},
     "output_type": "execute_result"
    },
    {
     "data": {
      "image/png": "[encoded data removed]",
      "text/plain": [
       "<Figure size 640x480 with 1 Axes>"
      ]
     },
     "metadata": {},
     "output_type": "display_data"
    }
   ],
   "source": [
    "fig, ax = plt.subplots()\n",
    "\n",
    "ax.bar(x=stop_shares.index, height=stop_shares)"
   ]
  },
  {
   "cell_type": "code",
   "execution_count": 17,
   "metadata": {},
   "outputs": [
    {
     "data": {
      "text/plain": [
       "(5105, 18)"
      ]
     },
     "execution_count": 17,
     "metadata": {},
     "output_type": "execute_result"
    }
   ],
   "source": [
    "df.shape"
   ]
  },
  {
   "cell_type": "code",
   "execution_count": 18,
   "metadata": {},
   "outputs": [
    {
     "data": {
      "text/plain": [
       "<BarContainer object of 5 artists>"
      ]
     },
     "execution_count": 18,
     "metadata": {},
     "output_type": "execute_result"
    },
    {
     "data": {
      "image/png": "[encoded data removed]",
      "text/plain": [
       "<Figure size 640x480 with 1 Axes>"
      ]
     },
     "metadata": {},
     "output_type": "display_data"
    }
   ],
   "source": [
    "fig, ax = plt.subplots()\n",
    "\n",
    "ax.bar(x=trivial_shares.index, height=1 - trivial_shares)"
   ]
  },
  {
   "cell_type": "code",
   "execution_count": 19,
   "metadata": {},
   "outputs": [
    {
     "data": {
      "text/plain": [
       "<BarContainer object of 5 artists>"
      ]
     },
     "execution_count": 19,
     "metadata": {},
     "output_type": "execute_result"
    },
    {
     "data": {
      "image/png": "[encoded data removed]",
      "text/plain": [
       "<Figure size 640x480 with 1 Axes>"
      ]
     },
     "metadata": {},
     "output_type": "display_data"
    }
   ],
   "source": [
    "fig, ax = plt.subplots()\n",
    "\n",
    "ax.bar(x=trivial_shares.index, height=(1 - trivial_shares) * stop_shares)"
   ]
  },
  {
   "cell_type": "code",
   "execution_count": 20,
   "metadata": {},
   "outputs": [],
   "source": [
    "# from thesis.data.wrapper import Data\n",
    "from thesis.scripts.eval_amend import get_stats\n",
    "from pathlib import Path\n"
   ]
  },
  {
   "cell_type": "code",
   "execution_count": 21,
   "metadata": {},
   "outputs": [
    {
     "data": {
      "text/plain": [
       "5119"
      ]
     },
     "execution_count": 21,
     "metadata": {},
     "output_type": "execute_result"
    }
   ],
   "source": [
    "filenames = list(Path('../.data-for-analysis/').glob('**/*.pkl.gz'))\n",
    "len(filenames)"
   ]
  },
  {
   "cell_type": "code",
   "execution_count": 22,
   "metadata": {},
   "outputs": [],
   "source": [
    "subset_stats = pd.DataFrame.from_records(\n",
    "    [\n",
    "        get_stats(filename.as_posix()) for filename in filenames\n",
    "    ]\n",
    ")"
   ]
  },
  {
   "cell_type": "code",
   "execution_count": 23,
   "metadata": {},
   "outputs": [
    {
     "data": {
      "text/html": [
       "<div>\n",
       "<style scoped>\n",
       "    .dataframe tbody tr th:only-of-type {\n",
       "        vertical-align: middle;\n",
       "    }\n",
       "\n",
       "    .dataframe tbody tr th {\n",
       "        vertical-align: top;\n",
       "    }\n",
       "\n",
       "    .dataframe thead th {\n",
       "        text-align: right;\n",
       "    }\n",
       "</style>\n",
       "<table border=\"1\" class=\"dataframe\">\n",
       "  <thead>\n",
       "    <tr style=\"text-align: right;\">\n",
       "      <th></th>\n",
       "      <th>stops</th>\n",
       "      <th>lines</th>\n",
       "      <th>line_reps</th>\n",
       "      <th>activities</th>\n",
       "      <th>events</th>\n",
       "      <th>od_pairs</th>\n",
       "    </tr>\n",
       "  </thead>\n",
       "  <tbody>\n",
       "    <tr>\n",
       "      <th>0</th>\n",
       "      <td>5</td>\n",
       "      <td>3</td>\n",
       "      <td>8</td>\n",
       "      <td>366</td>\n",
       "      <td>92</td>\n",
       "      <td>20</td>\n",
       "    </tr>\n",
       "    <tr>\n",
       "      <th>1</th>\n",
       "      <td>5</td>\n",
       "      <td>2</td>\n",
       "      <td>6</td>\n",
       "      <td>176</td>\n",
       "      <td>64</td>\n",
       "      <td>20</td>\n",
       "    </tr>\n",
       "    <tr>\n",
       "      <th>2</th>\n",
       "      <td>6</td>\n",
       "      <td>2</td>\n",
       "      <td>4</td>\n",
       "      <td>72</td>\n",
       "      <td>44</td>\n",
       "      <td>30</td>\n",
       "    </tr>\n",
       "    <tr>\n",
       "      <th>3</th>\n",
       "      <td>8</td>\n",
       "      <td>4</td>\n",
       "      <td>7</td>\n",
       "      <td>122</td>\n",
       "      <td>60</td>\n",
       "      <td>37</td>\n",
       "    </tr>\n",
       "    <tr>\n",
       "      <th>4</th>\n",
       "      <td>4</td>\n",
       "      <td>2</td>\n",
       "      <td>7</td>\n",
       "      <td>222</td>\n",
       "      <td>68</td>\n",
       "      <td>12</td>\n",
       "    </tr>\n",
       "  </tbody>\n",
       "</table>\n",
       "</div>"
      ],
      "text/plain": [
       "   stops  lines  line_reps  activities  events  od_pairs\n",
       "0      5      3          8         366      92        20\n",
       "1      5      2          6         176      64        20\n",
       "2      6      2          4          72      44        30\n",
       "3      8      4          7         122      60        37\n",
       "4      4      2          7         222      68        12"
      ]
     },
     "execution_count": 23,
     "metadata": {},
     "output_type": "execute_result"
    }
   ],
   "source": [
    "subset_stats.head()"
   ]
  },
  {
   "cell_type": "code",
   "execution_count": 24,
   "metadata": {},
   "outputs": [
    {
     "data": {
      "text/plain": [
       "<BarContainer object of 5 artists>"
      ]
     },
     "execution_count": 24,
     "metadata": {},
     "output_type": "execute_result"
    },
    {
     "data": {
      "image/png": "[encoded data removed]",
      "text/plain": [
       "<Figure size 640x480 with 1 Axes>"
      ]
     },
     "metadata": {},
     "output_type": "display_data"
    }
   ],
   "source": [
    "fig, ax = plt.subplots()\n",
    "\n",
    "subset_stop_shares = subset_stats['stops'].value_counts().sort_index() / len(subset_stats)\n",
    "\n",
    "\n",
    "ax.bar(x=subset_stop_shares.index, height=subset_stop_shares, width=0.5)\n",
    "ax.bar(x=subset_stop_shares.index, height=stop_shares, alpha=0.5)\n",
    "\n"
   ]
  },
  {
   "cell_type": "code",
   "execution_count": 25,
   "metadata": {},
   "outputs": [],
   "source": [
    "from calc_data_gen_node_count_distribution import get_unique_counts"
   ]
  },
  {
   "cell_type": "code",
   "execution_count": 28,
   "metadata": {},
   "outputs": [
    {
     "data": {
      "text/plain": [
       "<Axes: >"
      ]
     },
     "execution_count": 28,
     "metadata": {},
     "output_type": "execute_result"
    },
    {
     "data": {
      "image/png": "[encoded data removed]",
      "text/plain": [
       "<Figure size 640x480 with 1 Axes>"
      ]
     },
     "metadata": {},
     "output_type": "display_data"
    }
   ],
   "source": [
    "n_attempts = int(len(df) / 0.5)\n",
    "unique, counts = get_unique_counts(n_attempts)\n",
    "original_stop_counts = pd.Series(data=counts, index=unique).sort_index()\n",
    "solved_stop_counts = df['stops'].value_counts().sort_index()\n",
    "\n",
    "pd.DataFrame({'original': original_stop_counts, 'solved': solved_stop_counts}).plot.bar()"
   ]
  }
 ],
 "metadata": {
  "kernelspec": {
   "display_name": "thesis",
   "language": "python",
   "name": "python3"
  },
  "language_info": {
   "codemirror_mode": {
    "name": "ipython",
    "version": 3
   },
   "file_extension": ".py",
   "mimetype": "text/x-python",
   "name": "python",
   "nbconvert_exporter": "python",
   "pygments_lexer": "ipython3",
   "version": "3.10.4"
  }
 },
 "nbformat": 4,
 "nbformat_minor": 2
}
